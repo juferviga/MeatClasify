{
 "cells": [
  {
   "cell_type": "code",
   "execution_count": 1,
   "id": "fda0c29a",
   "metadata": {},
   "outputs": [],
   "source": [
    "import numpy as np\n",
    "from keras.preprocessing.image import load_img, img_to_array\n",
    "from keras.models import load_model"
   ]
  },
  {
   "cell_type": "code",
   "execution_count": 2,
   "id": "4f8408d3",
   "metadata": {},
   "outputs": [
    {
     "name": "stderr",
     "output_type": "stream",
     "text": [
      "2022-09-04 11:23:39.933355: I tensorflow/core/platform/cpu_feature_guard.cc:151] This TensorFlow binary is optimized with oneAPI Deep Neural Network Library (oneDNN) to use the following CPU instructions in performance-critical operations:  AVX2 FMA\n",
      "To enable them in other operations, rebuild TensorFlow with the appropriate compiler flags.\n"
     ]
    }
   ],
   "source": [
    "longitud, altura = 150, 150\n",
    "modelo = '/Users/JuanVillalba/Desktop/ImageProcess/modelo.h5'\n",
    "pesos_modelo = '/Users/JuanVillalba/Desktop/ImageProcess/modelo/pesos.h5'\n",
    "cnn = load_model(modelo)\n",
    "cnn.load_weights(pesos_modelo)"
   ]
  },
  {
   "cell_type": "code",
   "execution_count": 3,
   "id": "1fefbca1",
   "metadata": {},
   "outputs": [
    {
     "ename": "SyntaxError",
     "evalue": "invalid non-printable character U+00A0 (330542111.py, line 2)",
     "output_type": "error",
     "traceback": [
      "\u001b[0;36m  Input \u001b[0;32mIn [3]\u001b[0;36m\u001b[0m\n\u001b[0;31m    imagen = tf.keras.preprocessing.image.load_img(file, target_size=(longitud, altura))\u001b[0m\n\u001b[0m    ^\u001b[0m\n\u001b[0;31mSyntaxError\u001b[0m\u001b[0;31m:\u001b[0m invalid non-printable character U+00A0\n"
     ]
    }
   ],
   "source": [
    "def predict(file):\n",
    "  imagen = tf.keras.preprocessing.image.load_img(file, target_size=(longitud, altura))\n",
    "  imagen = img_to_array(imagen)\n",
    "  imagen = np.expand_dims(x, axis=0)\n",
    "  array = cnn.predict(imagen)\n",
    "  result = array[0]\n",
    "  answer = np.argmax(result)\n",
    "  if answer == 0:\n",
    "    print(\"pred: CLASE_1\")\n",
    "  elif answer == 1:\n",
    "    print(\"pred: CLASE 2\")\n",
    "  elif answer == 2:\n",
    "    print(\"pred: CLASE 3\")\n",
    " elif answer == 3:\n",
    "    print(\"pred: CLASE 4\")\n",
    " elif answer == 4:\n",
    "    print(\"pred: CLASE 5\")\n",
    " elif answer == 5:\n",
    "    print(\"pred: CLASE 6\")\n",
    " elif answer == 6:\n",
    "    print(\"pred: CLASE 7\")\n",
    " elif answer == 7:\n",
    "    print(\"pred: CLASE 8\")\n",
    " return answer"
   ]
  },
  {
   "cell_type": "code",
   "execution_count": null,
   "id": "957f96f1",
   "metadata": {},
   "outputs": [],
   "source": [
    "predict('Prueba1.png')"
   ]
  },
  {
   "cell_type": "code",
   "execution_count": null,
   "id": "a1ed5e23",
   "metadata": {},
   "outputs": [],
   "source": []
  }
 ],
 "metadata": {
  "kernelspec": {
   "display_name": "Python 3 (ipykernel)",
   "language": "python",
   "name": "python3"
  },
  "language_info": {
   "codemirror_mode": {
    "name": "ipython",
    "version": 3
   },
   "file_extension": ".py",
   "mimetype": "text/x-python",
   "name": "python",
   "nbconvert_exporter": "python",
   "pygments_lexer": "ipython3",
   "version": "3.9.12"
  }
 },
 "nbformat": 4,
 "nbformat_minor": 5
}
